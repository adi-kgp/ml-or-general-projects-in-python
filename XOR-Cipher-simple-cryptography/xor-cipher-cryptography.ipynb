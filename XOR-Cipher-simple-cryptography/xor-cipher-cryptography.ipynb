{
 "cells": [
  {
   "cell_type": "code",
   "execution_count": 1,
   "metadata": {},
   "outputs": [
    {
     "name": "stdout",
     "output_type": "stream",
     "text": [
      "b\"'\\n\\x07\\x13\\x1cT\\x1a\\x11C\\x1b\\x16T\\x05\\x00\\x11\\x0bE\\x19\\x1c\\x0c\\x10\\x06E\\x1b\\x06\\x11\\x10\\x1b\\x01\\x11R\"\n",
      "b'Today it is very moist outside!'\n"
     ]
    }
   ],
   "source": [
    "# 1 XOR 1  = 0 (Exclusive Or) basically both the digits should be different to get 1 in the output\n",
    "# 1101 0011 (one byte, lets call it byte1, 8 bits)\n",
    "# 0011 1010 (byte2)\n",
    "# 1110 1001 (byte1 XOR byte2)\n",
    "\n",
    "def xor_cipher(text, key):\n",
    "    if isinstance(text, str):\n",
    "        text = text.encode()\n",
    "\n",
    "    if len(key) < len(text):\n",
    "        key = key * (len(text) // len(key) + 1)\n",
    "        key = key[:len(text)]\n",
    "\n",
    "    return bytes([x ^ y for x, y in zip(text, key)])\n",
    "\n",
    "original_text = \"Today it is very moist outside!\"\n",
    "\n",
    "key = b'secret'\n",
    "\n",
    "encrypted = xor_cipher(original_text, key)\n",
    "\n",
    "print(encrypted)\n",
    "\n",
    "decrypted = xor_cipher(encrypted, key)\n",
    "\n",
    "print(decrypted)\n"
   ]
  },
  {
   "cell_type": "code",
   "execution_count": null,
   "metadata": {},
   "outputs": [],
   "source": []
  }
 ],
 "metadata": {
  "kernelspec": {
   "display_name": "dsc",
   "language": "python",
   "name": "python3"
  },
  "language_info": {
   "codemirror_mode": {
    "name": "ipython",
    "version": 3
   },
   "file_extension": ".py",
   "mimetype": "text/x-python",
   "name": "python",
   "nbconvert_exporter": "python",
   "pygments_lexer": "ipython3",
   "version": "3.10.14"
  }
 },
 "nbformat": 4,
 "nbformat_minor": 2
}
